{
 "cells": [
  {
   "cell_type": "markdown",
   "id": "541bc81f-4bac-48e4-b5c1-77df70652c3d",
   "metadata": {},
   "source": [
    "# Exercises to help master the marker based toolboxes"
   ]
  },
  {
   "cell_type": "markdown",
   "id": "7f00ce59-7da4-43b8-9fd2-1e5c7a70f28e",
   "metadata": {},
   "source": [
    "## Ex 1: Average gait cycles plot\n",
    "Our sample file \"gait-pig.c3d\" has a sequence of gait cycles. Extract each cycle for the Right knee angle and plot them superimposed on a single plot. <br>\n",
    "<b>Hint</b>: You will have to time normalize them to get a nice graph <br>\n",
    "<b>Bonus</b>: Plot the mean "
   ]
  },
  {
   "cell_type": "markdown",
   "id": "d5fcf159-98b8-425d-a36b-0e1d6a457f02",
   "metadata": {},
   "source": [
    "# Ex 2: Event detection\n",
    "Foot strike/ Foot off detection: Write code to detect Foot strike on force plate 2 for our sample file \"gait-pig.c3d\" file. \n",
    "<b>Bonus</b>: Compare to existing events in the file"
   ]
  }
 ],
 "metadata": {
  "kernelspec": {
   "display_name": "Python 3 (ipykernel)",
   "language": "python",
   "name": "python3"
  },
  "language_info": {
   "codemirror_mode": {
    "name": "ipython",
    "version": 3
   },
   "file_extension": ".py",
   "mimetype": "text/x-python",
   "name": "python",
   "nbconvert_exporter": "python",
   "pygments_lexer": "ipython3",
   "version": "3.9.16"
  }
 },
 "nbformat": 4,
 "nbformat_minor": 5
}
