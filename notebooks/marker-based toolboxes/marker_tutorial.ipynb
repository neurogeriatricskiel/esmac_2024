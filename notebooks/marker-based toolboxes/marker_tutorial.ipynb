{
 "cells": [
  {
   "cell_type": "markdown",
   "id": "1021f179",
   "metadata": {},
   "source": [
    "# Python modules for marker / motion-capture datasets\n",
    "\n",
    "This Jupyter notebook is part of the *Python programming for the movement sciences* to give you a crude introduction to \n",
    "toolboxes that you can use for data collected from optical motion capture systems (e.g. marker, force plate, or electromyography data). \n",
    "This seminar is hardly enough for you to master these toolboxes, but it provides the basic knowledge needed to get started. <br>\n",
    "The commands shown here are universal across all platforms (mac os/windows/linux), across programming IDEs or programming notebooks.\n",
    "\n",
    "This notebook will explore the following modules \n",
    "- [ezc3d](https://github.com/pyomeca/ezc3d): read/write c3d files (actually part of pyomeca...)\n",
    "- [Pyomeca](https://pyomeca.github.io/): biomechanical analysis toolbox \n",
    "- [kineticstoolkit](https://kineticstoolkit.uqam.ca/doc/): (another) biomechanical analysis toolbox "
   ]
  },
  {
   "cell_type": "code",
   "execution_count": 1,
   "id": "27aa7323",
   "metadata": {},
   "outputs": [
    {
     "name": "stderr",
     "output_type": "stream",
     "text": [
      "Matplotlib is building the font cache; this may take a moment.\n"
     ]
    }
   ],
   "source": [
    "# Import basic  libraries\n",
    "\n",
    "import numpy as np\n",
    "import matplotlib.pyplot as plt\n"
   ]
  },
  {
   "cell_type": "markdown",
   "id": "2e05ae5b",
   "metadata": {},
   "source": [
    "## Loading c3d files (version 1: using ezc3d)\n",
    "A crucial starting point is the ability to load standard motion capture file types such as c3d files. We will start by using ezc3d to open a file called ``gait-pig.c3d`` available in our repository. \n"
   ]
  },
  {
   "cell_type": "code",
   "execution_count": 2,
   "id": "1802ed1a",
   "metadata": {},
   "outputs": [],
   "source": [
    "# Load a C3D file\n",
    "import ezc3d\n",
    "c3d_file_path = 'gait-pig.c3d'  # Replace with your .c3d file path\n",
    "c3d = ezc3d.c3d(c3d_file_path)"
   ]
  },
  {
   "cell_type": "raw",
   "id": "51b58479",
   "metadata": {},
   "source": [
    "ezc3d loads a c3d file as python dictionary\n",
    "    -- header      ---> contains metadata information about the file\n",
    "    -- parameters  ---> contains information of parameters stored in the C3D file, which include various settings and\n",
    "                        configurations used during data collection\n",
    "    -- data        ---> contains arrays of data\n",
    " All three of them are python dictionaries"
   ]
  },
  {
   "cell_type": "markdown",
   "id": "dc5604e5",
   "metadata": {},
   "source": [
    "### How to access specific marker data or joint angle from the loaded file\n",
    "\n",
    "The following demonstrates that once you load a file with ezc3d, you still have some work to do to organize the data the way you \n",
    "want it. Here, we create a dictionary called ``data`` allowing us access to the trajectories for plotting.  "
   ]
  },
  {
   "cell_type": "code",
   "execution_count": 3,
   "id": "59074ac7",
   "metadata": {},
   "outputs": [],
   "source": [
    "# Extract labels and corresponding data from a c3d file (likely motion capture data)\n",
    "\n",
    "# Get a list of all point parameters\n",
    "points=list(c3d['parameters']['POINT'].keys())\n",
    "\n",
    "# Find indices of point parameters that contain the word 'LABELS'\n",
    "LABELS=np.where(np.char.find(points,'LABELS')==0)[0]\n",
    "\n",
    "# Extract the first set of labels\n",
    "label=np.array(c3d['parameters']['POINT'][points[LABELS[0]]]['value'])\n",
    "\n",
    "# If there are multiple sets of labels, append them to the 'label' array\n",
    "if LABELS.shape[0]>1:\n",
    "    for LABEL in range(1,LABELS.shape[0]):\n",
    "        label=np.append(label,\n",
    "                        np.array(c3d['parameters']['POINT'][points[LABELS[LABEL]]]['value']))\n",
    "\n",
    "# Extract the 3D point data for each label\n",
    "label_data=c3d['data']['points'][0:3,:,:]\n",
    "\n",
    "# Create a dictionary to store the label and corresponding data\n",
    "data={}\n",
    "for i in range(len(label)):\n",
    "    data[f\"{label[i]}\"]=label_data[:,i,:]"
   ]
  },
  {
   "cell_type": "code",
   "execution_count": 15,
   "id": "f6d2600c",
   "metadata": {},
   "outputs": [
    {
     "data": {
      "text/plain": [
       "[<matplotlib.lines.Line2D at 0x16bdb8a60>]"
      ]
     },
     "execution_count": 15,
     "metadata": {},
     "output_type": "execute_result"
    },
    {
     "data": {
      "image/png": "[encoded data removed]",
      "text/plain": [
       "<Figure size 750x375 with 1 Axes>"
      ]
     },
     "metadata": {},
     "output_type": "display_data"
    }
   ],
   "source": [
    "# Plot the right knee angles over time.\n",
    "plt.plot(data['A22:RKneeAngles'][0,:]) "
   ]
  },
  {
   "cell_type": "markdown",
   "id": "6f324447",
   "metadata": {},
   "source": [
    "### How to access events stored in c3d file\n",
    "\n",
    "In addition to trajectory data, users may want to access events (e.g. for gait, the timing of foot strike is often important). Again, a short script can be created to help us extract this information and print it."
   ]
  },
  {
   "cell_type": "code",
   "execution_count": 16,
   "id": "e4ee4334",
   "metadata": {},
   "outputs": [],
   "source": [
    "# Initialize a dictionary to store events for left and right limbs\n",
    "events={'Right':{'Foot Strike':[],'Foot Off':[]},'Left':{'Foot Strike':[],'Foot Off':[]}}\n",
    "\n",
    "# Extract context, event names, and timestamps from the c3d data\n",
    "contexts=np.array(c3d['parameters']['EVENT']['CONTEXTS']['value'])  # Limb (Right/Left)\n",
    "eventname=np.array(c3d['parameters']['EVENT']['LABELS']['value'])   # Event type (Foot Strike/Foot Off)\n",
    "# Calculate event times in seconds, adjusting for trial start time and camera rate\n",
    "values=np.array(c3d['parameters']['EVENT']['TIMES']['value'][1]*c3d['parameters']['TRIAL']['CAMERA_RATE']['value'])\n",
    "\n",
    "# Populate the events dictionary\n",
    "for i in range(len(contexts)):\n",
    "    # Subtract trial start time to get relative time from trial start\n",
    "    events[contexts[i]][eventname[i]].append(round(values[i]-c3d['parameters']['TRIAL']['ACTUAL_START_FIELD']['value'][0])) \n",
    "\n",
    "# Sort events for each limb and event type\n",
    "for j in events.keys():\n",
    "    for i in events[j].keys():\n",
    "        events[j][i]=np.sort(events[j][i])"
   ]
  },
  {
   "cell_type": "code",
   "execution_count": 17,
   "id": "775990e9",
   "metadata": {},
   "outputs": [
    {
     "data": {
      "text/plain": [
       "{\n",
       "    'Right': {'Foot Strike': array([51, 99]), 'Foot Off': array([ 80, 129])}\n",
       "     'Left': {'Foot Strike': array([ 27, 75, 123]), 'Foot Off': array([ 57, ...\n",
       "}"
      ]
     },
     "execution_count": 17,
     "metadata": {},
     "output_type": "execute_result"
    }
   ],
   "source": [
    "events"
   ]
  },
  {
   "cell_type": "markdown",
   "id": "5ccd908d",
   "metadata": {},
   "source": [
    "## Loading c3d files (version 2: using kineticstoolkit)\n",
    "\n",
    "The kineticstoolkit can also be used to load a c3d file. As we will see below, the advantage is that users can more readily access data without developing additional scripts. Users can plot data using a single line. We will see later that the kinetictoolkit can do much more than just open c3d files\n"
   ]
  },
  {
   "cell_type": "code",
   "execution_count": 18,
   "id": "b21cba96",
   "metadata": {
    "scrolled": true
   },
   "outputs": [],
   "source": [
    "import kineticstoolkit.lab as ktk"
   ]
  },
  {
   "cell_type": "code",
   "execution_count": 22,
   "id": "40870ac7",
   "metadata": {},
   "outputs": [],
   "source": [
    "# Read the C3D file data into a variable 'c3d_contents'\n",
    "# 'ktk.read_c3d()' is a function that reads a C3D file and returns its contents\n",
    "c3d_file_path = 'gait-pig.c3d'  # Replace with your .c3d file path\n",
    "c3d_contents = ktk.read_c3d(c3d_file_path, convert_point_unit=True)\n"
   ]
  },
  {
   "cell_type": "code",
   "execution_count": 23,
   "id": "17512ab7",
   "metadata": {},
   "outputs": [
    {
     "data": {
      "text/plain": [
       "<ezc3d.c3d at 0x107c05690>"
      ]
     },
     "execution_count": 23,
     "metadata": {},
     "output_type": "execute_result"
    }
   ],
   "source": [
    "c3d"
   ]
  },
  {
   "cell_type": "code",
   "execution_count": 24,
   "id": "d41121a4",
   "metadata": {},
   "outputs": [
    {
     "data": {
      "text/plain": [
       "[<matplotlib.lines.Line2D at 0x16bbe6020>]"
      ]
     },
     "execution_count": 24,
     "metadata": {},
     "output_type": "execute_result"
    },
    {
     "data": {
      "image/png": "[encoded data removed]",
      "text/plain": [
       "<Figure size 750x375 with 1 Axes>"
      ]
     },
     "metadata": {},
     "output_type": "display_data"
    }
   ],
   "source": [
    "# Plot the data for the 'RKneeAngles' point in the first dimension (x-axis).\n",
    "# 'Points' is a key in the 'c3d_contents' dictionary containing kinematic data.\n",
    "# '.data['A22:RKneeAngles'][:, 0]' extracts the x-axis data (first dimension) of the 'RKneeAngles' point.\n",
    "# '*1000' is used to scale the data (e.g., converting meters to millimeters).\n",
    "plt.plot(c3d_contents['Points'].data['A22:RKneeAngles'][:,0]*1000)"
   ]
  },
  {
   "cell_type": "markdown",
   "id": "f4f30525",
   "metadata": {},
   "source": [
    "## Loading c3d files (version 3: using pyomeca)\n",
    "\n",
    "Pyomeca can also be used to load a c3d file. As with the kineticstoolkit, it provides a bunch of methods allowing easy access to data. Here we show a neat feature that pyomeca provides out of the box. We can remove the subject name (A22) from the channel. This is often an annoyance to keep when trying to analyze the same kinematic channel across multiple subjects."
   ]
  },
  {
   "cell_type": "code",
   "execution_count": 25,
   "id": "598bfa35",
   "metadata": {
    "scrolled": true
   },
   "outputs": [],
   "source": [
    "import pyomeca #import pyomeca library\n",
    "from pyomeca import Markers #import Markers class from pyomeca library\n",
    "\n",
    "data_path = \"gait-pig.c3d\" #specify the data path\n",
    "markers = Markers.from_c3d(data_path,prefix_delimiter=':') #load markers data from c3d file and set prefix delimiter to \":\"\n",
    "#The prefix_delimiter argument is used to specify the character that separates the prefix from the marker name in the C3D file. \n",
    "#By setting the prefix_delimiter, Pyomeca can correctly parse the marker names and extract the relevant data.\n"
   ]
  },
  {
   "cell_type": "code",
   "execution_count": 26,
   "id": "1c96ac50",
   "metadata": {
    "scrolled": true
   },
   "outputs": [
    {
     "data": {
      "text/plain": [
       "[<matplotlib.lines.Line2D at 0x16c1d9630>]"
      ]
     },
     "execution_count": 26,
     "metadata": {},
     "output_type": "execute_result"
    },
    {
     "data": {
      "image/png": "[encoded data removed]",
      "text/plain": [
       "<Figure size 750x375 with 1 Axes>"
      ]
     },
     "metadata": {},
     "output_type": "display_data"
    }
   ],
   "source": [
    "# Select data for the right knee angle and plot it.\n",
    "plt.plot(markers.sel(axis='x',channel='RKneeAngles'))  \n",
    "# .sel is used to select data based on coordinate values. In this case, it selects data for the channel labeled 'RKneeAngles'.\n",
    "# The axis='x' extracts the flexion angles of the data for the selected channel"
   ]
  },
  {
   "cell_type": "markdown",
   "id": "bcd34521",
   "metadata": {},
   "source": [
    "## Kinetics toolkit for biomechanical analysis\n",
    "\n",
    "Here we demonstrate a useful feature of the kinetictoolkit: visualization. This is great if you are making changes to your data and \n",
    "want to visualize it without having to export to a third party viewer (e.g. visual3d, mokka)"
   ]
  },
  {
   "cell_type": "code",
   "execution_count": 27,
   "id": "b7f70512",
   "metadata": {},
   "outputs": [],
   "source": [
    "# Set an interactive backend\n",
    "%matplotlib qt5"
   ]
  },
  {
   "cell_type": "code",
   "execution_count": 28,
   "id": "20a48656",
   "metadata": {},
   "outputs": [
    {
     "name": "stderr",
     "output_type": "stream",
     "text": [
      "UserWarning [/Users/phild/miniforge3/envs/esmac-2024-seminar/lib/python3.10/site-packages/kineticstoolkit/files.py:512] In the specified file, points are expressed in mm. They were automatically converted to meters by scaling them by 0.001. Please note that if this file also contains calculated values such as angles, powers, etc., they were also (wrongly) scaled by 0.001. Consult https://kineticstoolkit.uqam.ca/doc/api/ktk.read_c3d.html for more information. You can mute this warning by explicitely setting `convert_point_unit` to either True or False.\n"
     ]
    }
   ],
   "source": [
    "# Read the 3D motion capture data from a C3D file named 'gait-pig.c3d'#\n",
    "# The 'read_c3d' function from the 'ktk' module reads the file and returns a dictionary.\n",
    "# We extract the \"Points\" key from this dictionary, which contains the marker positions.\n",
    "markers = ktk.read_c3d('gait-pig.c3d')[\"Points\"]\n",
    "\n",
    "# Create a Player object from the 'ktk' module using the marker data.\n",
    "# The Player object is typically used to visualize or interact with the motion capture data.\n",
    "p = ktk.Player(markers)\n"
   ]
  },
  {
   "cell_type": "code",
   "execution_count": 29,
   "id": "7ee149b1",
   "metadata": {},
   "outputs": [],
   "source": [
    "# the default view is annoying, it is good to know the coordinate system used and define in in the player method\n",
    "p = ktk.Player(\n",
    "    markers,\n",
    "    up=\"z\",\n",
    ")"
   ]
  },
  {
   "cell_type": "code",
   "execution_count": null,
   "id": "3b697d98",
   "metadata": {},
   "outputs": [],
   "source": [
    "# Play the animation or visualization of the marker data or press the space bar in the viewer.\n",
    "p.play()"
   ]
  },
  {
   "cell_type": "markdown",
   "id": "d16be6f1",
   "metadata": {},
   "source": [
    "## Pyomeca for biomechanical analysis\n",
    "\n",
    "Pyomeca is another great toolkit for biomechanical analysis. Here we desmonstrate two features (1) processing of EMG data and (2) time-normalization of knee flexion/extension curve"
   ]
  },
  {
   "cell_type": "markdown",
   "id": "a8f1bf78-aeca-4c1b-92ca-cde8f1298402",
   "metadata": {},
   "source": [
    "### EMG processing"
   ]
  },
  {
   "cell_type": "code",
   "execution_count": 31,
   "id": "71b676c4",
   "metadata": {},
   "outputs": [
    {
     "data": {
      "text/plain": [
       "<xarray.plot.facetgrid.FacetGrid at 0x30c7be770>"
      ]
     },
     "execution_count": 31,
     "metadata": {},
     "output_type": "execute_result"
    }
   ],
   "source": [
    "from pyomeca import Analogs # import Analogs class from pyomeca library\n",
    "\n",
    "# path to c3d file containing emg data\n",
    "data_path = \"markers_analogs.c3d\"\n",
    "\n",
    "# list of muscles to extract from c3d file\n",
    "muscles = [\n",
    "    \"Delt_ant\",\n",
    "    \"Delt_med\",\n",
    "] \n",
    "\n",
    "# create Analogs object from c3d file\n",
    "emg = Analogs.from_c3d(data_path, suffix_delimiter=\".\", usecols=muscles) \n",
    "\n",
    "# plot emg data\n",
    "emg.plot(x=\"time\", col=\"channel\", col_wrap=3) \n"
   ]
  },
  {
   "cell_type": "code",
   "execution_count": 32,
   "id": "2324ce40",
   "metadata": {},
   "outputs": [
    {
     "data": {
      "text/plain": [
       "<xarray.plot.facetgrid.FacetGrid at 0x31c44e9b0>"
      ]
     },
     "execution_count": 32,
     "metadata": {},
     "output_type": "execute_result"
    }
   ],
   "source": [
    "# Process EMG signal\n",
    "emg_processed = (\n",
    "    emg\n",
    "    .meca.band_pass(order=2, cutoff=[10, 425])  # Apply band-pass filter to remove noise and focus on relevant frequencies\n",
    "    .meca.center()  # Center the signal around zero\n",
    "    .meca.abs()  # Take the absolute value to rectify the signal\n",
    "    .meca.low_pass(order=4, cutoff=5, freq=emg.rate)  # Apply low-pass filter to smooth the signal\n",
    "    .meca.normalize()  # Normalize the signal to a common range\n",
    ")\n",
    "\n",
    "# Plot processed EMG signal\n",
    "emg_processed.plot(x=\"time\", col=\"channel\", col_wrap=3)\n",
    "\n",
    "# - .meca commands are part of a library that provides signal processing functionalities.\n",
    "# - .meca.band_pass: Applies a band-pass filter to the signal.\n",
    "# - .meca.center: Centers the signal around zero.\n",
    "# - .meca.abs: Calculates the absolute value of the signal.\n",
    "# - .meca.low_pass: Applies a low-pass filter to the signal.\n",
    "# - .meca.normalize: Normalizes the signal to a common range."
   ]
  },
  {
   "cell_type": "markdown",
   "id": "bcb746e3",
   "metadata": {},
   "source": [
    "### How to Time Normalize data using Pyomeca"
   ]
  },
  {
   "cell_type": "code",
   "execution_count": 35,
   "id": "d2731edb",
   "metadata": {},
   "outputs": [],
   "source": [
    "\n",
    "import pyomeca #import pyomeca library\n",
    "from pyomeca import Markers #import Markers class from pyomeca library\n",
    "\n",
    "data_path = \"gait-pig.c3d\" #specify the data path\n",
    "markers = Markers.from_c3d(data_path,prefix_delimiter=':') #load markers data from c3d file and set prefix delimiter to \":\"\n",
    "#The prefix_delimiter argument is used to specify the character that separates the prefix from the marker name in the C3D file. \n",
    "#This is useful when the marker names in the C3D file contain prefixes, such as \"Left\" or \"Right\". \n",
    "#By setting the prefix_delimiter, Pyomeca can correctly parse the marker names and extract the relevant data.\n",
    "\n",
    "# Select the 'RKneeAngles' data from the markers, specifically along the 'x' axis\n",
    "RKneeangles = markers.sel(axis='x', channel='RKneeAngles')\n",
    "\n",
    "# Time normalize the selected RKneeAngles data between indices 51 and 99 (Both indices are foot strikes from events)\n",
    "# 'norm_time=True' ensures the data is normalized with respect to time (0 to 1)\n",
    "time_normalized = RKneeangles[51:99].meca.time_normalize(norm_time=True)\n",
    "\n",
    "# Plot the time-normalized knee angle data\n",
    "time_normalized.plot(color='b')\n",
    "\n",
    "# Plot the original (true) knee angle data for comparison in green ('g')\n",
    "plt.plot(RKneeangles.data[51:99], 'g')\n",
    "\n",
    "# Add a legend to distinguish between the time-normalized data and the original data\n",
    "plt.legend(['Time Normalized', 'True'])\n",
    "\n",
    "# Display the plot with both curves\n",
    "plt.show()\n"
   ]
  },
  {
   "cell_type": "markdown",
   "id": "06b9b0bd",
   "metadata": {},
   "source": [
    "### Amplitude normalization with Pyomeca"
   ]
  },
  {
   "cell_type": "code",
   "execution_count": 37,
   "id": "923d2196",
   "metadata": {},
   "outputs": [],
   "source": [
    "from pyomeca import Analogs #import Analogs class from pyomeca library\n",
    "\n",
    "data_path = \"gait-pig.c3d\" #specify the data path\n",
    "FZ1 = Analogs.from_c3d(data_path, usecols=[\"FZ1\"])\n",
    "FZ1_normalized = FZ1.meca.normalize(ref=60, scale=1)  # say body mass is 60 Kg, then we have N/kg\n",
    "\n",
    "\n",
    "FZ1_normalized.plot(color='b')\n",
    "FZ1.plot(color='r')\n",
    "plt.legend(['Amplitude normalized', 'Raw'])\n",
    "\n",
    "\n"
   ]
  },
  {
   "cell_type": "code",
   "execution_count": null,
   "id": "4976bfb3-59dc-4413-956b-92136fd19a56",
   "metadata": {},
   "outputs": [],
   "source": []
  }
 ],
 "metadata": {
  "kernelspec": {
   "display_name": "Python 3 (ipykernel)",
   "language": "python",
   "name": "python3"
  },
  "language_info": {
   "codemirror_mode": {
    "name": "ipython",
    "version": 3
   },
   "file_extension": ".py",
   "mimetype": "text/x-python",
   "name": "python",
   "nbconvert_exporter": "python",
   "pygments_lexer": "ipython3",
   "version": "3.10.14"
  }
 },
 "nbformat": 4,
 "nbformat_minor": 5
}
