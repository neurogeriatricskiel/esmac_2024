{
 "cells": [
  {
   "cell_type": "markdown",
   "id": "13371220",
   "metadata": {},
   "source": [
    "# Introdcution to Python for Movement Scientists\n",
    "\n",
    "<p>This Jupyter notebook summarizes the basic needs for Python programming. It is by no means an exclusive list, but is should be enough to get started.</p>\n",
    "<p>The commands here are universal across platforms (mac os/windows/linux), across programming IDEs or programming notebooks.</p>\n",
    "\n",
    "<p>This notebook will show you the basiscs of Python scripting. Starting with a general flow of Python code, then the primary data types. Followed by the collections that can be used to store multiple variables, loops and condition statements. Input statement to load data from documents, and save data back into an other file format. Lastly, Python functions are being discussed. </p>\n",
    "\n",
    "<div class=\"alert alert-block alert-info\">\n",
    "<b>Tip:</b> Blue boxes (alert-info) are for tips and notes. \n",
    "If it’s a note, you don’t have to include the word “Note”.\n",
    "</div>\n",
    "\n",
    "<div class=\"alert alert-block alert-warning\">\n",
    "<b>Example:</b> Yellow boxes are for examples that are not \n",
    "inside code cells, or use for mathematical formulas if needed.\n",
    "</div>\n",
    "\n",
    "<div class=\"alert alert-block alert-success\">\n",
    "<b>Up to you:</b> Green boxes are sparingly, and only for some specific \n",
    "purpose that the other boxes can't cover. For example, if you have a lot \n",
    "of related content to link to, maybe you decide to use green boxes for \n",
    "related links from each section of a notebook.\n",
    "</div>\n",
    "\n",
    "<div class=\"alert alert-block alert-danger\">\n",
    "<b>Just don't:</b> In general, we avoid the red boxes. These should only be\n",
    "used for actions that might cause data loss or another major issue.\n",
    "</div>"
   ]
  },
  {
   "cell_type": "markdown",
   "id": "7c3ad68f",
   "metadata": {},
   "source": [
    "## General flow of Python script\n",
    "\n",
    "1. Import statements at the top of the page\n",
    "~~~\n",
    "import [library]\n",
    "~~~\n",
    "<div class=\"alert alert-block alert-warning\">\n",
    "<b>Example:</b> <b><font color=\"green\">import</font></b> pandas <b><font color=\"green\">as</font></b> pd\n",
    "</div>\n",
    "        \n",
    "2. Any and all functions \n",
    "~~~\n",
    "def my_function():\n",
    "~~~\n",
    "3. The code body"
   ]
  },
  {
   "cell_type": "code",
   "execution_count": 47,
   "id": "f3226d52",
   "metadata": {},
   "outputs": [
    {
     "name": "stdout",
     "output_type": "stream",
     "text": [
      "Welcome to esmac-2024 in Oslo!\n",
      "We hope you enjoy the python seminar\n"
     ]
    }
   ],
   "source": [
    "# 1. Import statements\n",
    "import pandas as pd\n",
    "import numpy as np\n",
    "import matplotlib.pyplot as plt\n",
    "import random\n",
    "from random import choice\n",
    "\n",
    "# 2. Functions\n",
    "def welcome_message(conference, location, occation):\n",
    "    \n",
    "    print(\"Welcome to {} in {}!\\nWe hope you enjoy the {}\".format(conference, location, occation))\n",
    "\n",
    "    \n",
    "# 3. The code\n",
    "welcome_message(\"esmac-2024\", \"Oslo\", \"python seminar\")"
   ]
  },
  {
   "cell_type": "markdown",
   "id": "ee1cbee2",
   "metadata": {},
   "source": [
    "## Data types\n",
    "<p>The 4 basic data types in Python are **textual data** in the form of strings; **numerical data** like integers, floating point numbers, and complex numbers; and **Booleans** like True and False. These are scaler types, meaning, single elements. </p>\n",
    "\n",
    "\n",
    "<div class=\"alert alert-block alert-info\">\n",
    "<b>Note:</b> The opperations that can be done on the data depents on the data type (e.g. addition (*) works different on strings, then they do on numerical types)\n",
    "</div>"
   ]
  },
  {
   "cell_type": "code",
   "execution_count": 14,
   "id": "ebe9559c",
   "metadata": {
    "scrolled": true
   },
   "outputs": [
    {
     "name": "stdout",
     "output_type": "stream",
     "text": [
      "H\n",
      "o\n",
      "Hello World\n",
      "468\n",
      "3.14159\n",
      "<class 'float'>\n",
      "<class 'str'>\n"
     ]
    }
   ],
   "source": [
    "#String\n",
    "\"Hello\"\n",
    "'Hello'\n",
    "\n",
    "#Subscripting string\n",
    "print(\"Hello\"[0]) # first \n",
    "print(\"Hello\"[-1]) # last\n",
    "print(\"Hello\" + \" \" + \"World\")\n",
    "\n",
    "#Integer -- whole numbers\n",
    "print(123 + 345)\n",
    "\n",
    "#Float (floating point number)\n",
    "pi = 3.14159\n",
    "print(pi)\n",
    "\n",
    "#Complex \n",
    "2 + 3j\n",
    "complex(2, 3)\n",
    "\n",
    "#Boolean\n",
    "True\n",
    "False\n",
    "\n",
    "#To go from one Data Type to the other --> Type casting\n",
    "print(type(pi))\n",
    "print(type(str(pi)))\n",
    "# int()\n",
    "# float()\n",
    "# str()"
   ]
  },
  {
   "cell_type": "markdown",
   "id": "4fd2c96e",
   "metadata": {},
   "source": [
    "<!-- ### Common errors\n",
    "<p>Common errors with these data types are Syntax errors and Type errors. </p>\n",
    "<p>When considering strings, the wrong use of quotation marks causes a *Syntax Error*. </p>\n",
    "<ul>\n",
    "    <li>Example: \"This is a 'valid' string\" \n",
    "    <p>out[ ]: \"This is a 'valid' string\"</p>\n",
    "    <li>Example: \"this is \"not a valid\" string\"\n",
    "    <p>out[ ]: <font color='red'>SyntaxError: invalid syntax </font></p>\n",
    "</ul>\n",
    "\n",
    "<p>Using the wrong data type for builed in functions will cause *Type Errors* </p>\n",
    "<ul>\n",
    "    <li>Example: len(\"Python\") \n",
    "    <p>out[ ]: 6 </p>\n",
    "    <li>Example: len(5)\n",
    "    <p>out[ ]: <font color='red'>TypeError: object of type 'int' has no len()</font> </p>\n",
    "</ul>        \n",
    " -->\n"
   ]
  },
  {
   "cell_type": "markdown",
   "id": "17de78a1",
   "metadata": {},
   "source": [
    "#### Common errors\n",
    "Common errors with these data types are Syntax errors and Type errors. \n",
    "\n",
    "When considering strings, the wrong use of quotation marks causes a <font color='red'>SyntaxError: </font>\n",
    "\n",
    "~~~\n",
    "\"This is a 'valid' string\"\n",
    "~~~\n",
    "\n",
    "~~~\n",
    "\"This is \"not a valid\" string\"\n",
    "~~~\n",
    "\n",
    "<div class=\"alert alert-block alert-info\">\n",
    "    <b>Note:</b> The double use of the same quotation marks in the second  causes the SyntaxError \n",
    "</div>\n",
    "\n",
    "Using the wrong data type for builed in functions will cause <font color='red'>TypeError:</font> \n",
    "~~~\n",
    "In[ ]: len(\"Python\")\n",
    "Out [ ]: 6 \n",
    "\n",
    "In[ ]: len(5)\n",
    "Out[ ]: TypeError                                 Traceback (most recent call last)\n",
    "Cell In[34], line 1\n",
    "----> 1 len(5)\n",
    "\n",
    "TypeError: object of type 'int' has no len()\n",
    "\n",
    "~~~\n",
    "\n",
    "<div class=\"alert alert-block alert-info\">\n",
    "    <b>Note:</b> The first example gives the output 6, meaning the string \"Python\" contains 6 characters; Using the len function on integers cuases a TypeError, because the integer has no length.\n",
    "</div>"
   ]
  },
  {
   "cell_type": "markdown",
   "id": "a4ea3f3b",
   "metadata": {},
   "source": [
    "## Data structures\n",
    "A way of organizing and storing grouped pieces of data in python. Usually these pieces of data have a relationship with each other. This is also the way to store data in a certain order (e.g. time series data). Here lists, dictionaries, __[NumPy](https://numpy.org)__ arrays and __[pandas](https://pandas.pydata.org)__ DataFrames are shown, as these are the most used data structures in data science and movement analysis. Lists and dictionaries are part of the standard python library, NumPy arrays and Panda DataFrames are accessible through external libraries and thus, should be installed in the environment, and imported in the script.\n",
    "\n",
    "\n",
    "1. Lists\n",
    "    - Can store any data type you'd want and can even combine them in a list\n",
    "    - List output looks like an array [1, \"hello\", 2.2]    \n",
    "    - They can be modified and added onto when needed. \n",
    "    ~~~\n",
    "    my_list = [item1, item2, ...]\n",
    "    ~~~\n",
    "\n",
    "2. Dictionaries\n",
    "    - A dictionary contains a key, which is a string, with an associated item. This item can be whatever, a scalar, a list or other dictionary.\n",
    "    ~~~\n",
    "    my_dict = {\"key1\": item1, \n",
    "             \"key2\": item2,\n",
    "             ... }\n",
    "    ~~~                  \n",
    "\n",
    "3. NumPy's Array\n",
    "    - The __[NumPy](https://numpy.org)__ library is a fundamental package for scientific computing.\n",
    "    - To create an array of equally spaced floats (e.g. for a timeline) you can use the following code\"\n",
    "    ~~~\n",
    "    import numpy as np\n",
    "    my_array = np.linspace(1,10)\n",
    "    my_matrix = my_array.reshape(10,5)\n",
    "    ~~~    \n",
    "4. Panda's DataFrame\n",
    "    - The __[pandas](https://pandas.pydata.org)__ library is the second fundamental package used for scientific computing. \n",
    "    - It provides easy-to-use data structures and analysis tools on those data structures. \n",
    "    - To create a pandas DataFrame, the following code can be used: \n",
    "    \n",
    "    ~~~\n",
    "    import pandas as pd\n",
    "    my_df = pd.DataFrame({'Data': my_array})\n",
    "    ~~~\n",
    "    - Note, the input structure is very similar to that of a dictionary. with a key given as a string, and the items in the form of a list.\n",
    "    - The DataFrames are displayed in tables with column headers, making it easy to visualize the data with\n",
    "    ~~~\n",
    "    my_df.head()\n",
    "    ~~~\n",
    "    \n",
    "\n",
    "\n",
    "<div class=\"alert alert-block alert-info\">\n",
    "    <b>Tip:</b> Indexing in the datastructures start from 0. This can be visualised as an offset from the start. Meaning, the first item has an offset of zero, whereas the second item has an ofset of 1 and so forth. The last item can be accessed with -1 (i.e. the offset of -1 from the start)\n",
    "</div>"
   ]
  },
  {
   "cell_type": "code",
   "execution_count": 42,
   "id": "e5f15df1",
   "metadata": {},
   "outputs": [
    {
     "data": {
      "text/html": [
       "<div>\n",
       "<style scoped>\n",
       "    .dataframe tbody tr th:only-of-type {\n",
       "        vertical-align: middle;\n",
       "    }\n",
       "\n",
       "    .dataframe tbody tr th {\n",
       "        vertical-align: top;\n",
       "    }\n",
       "\n",
       "    .dataframe thead th {\n",
       "        text-align: right;\n",
       "    }\n",
       "</style>\n",
       "<table border=\"1\" class=\"dataframe\">\n",
       "  <thead>\n",
       "    <tr style=\"text-align: right;\">\n",
       "      <th></th>\n",
       "      <th>Data</th>\n",
       "    </tr>\n",
       "  </thead>\n",
       "  <tbody>\n",
       "    <tr>\n",
       "      <th>0</th>\n",
       "      <td>1.000000</td>\n",
       "    </tr>\n",
       "    <tr>\n",
       "      <th>1</th>\n",
       "      <td>1.183673</td>\n",
       "    </tr>\n",
       "    <tr>\n",
       "      <th>2</th>\n",
       "      <td>1.367347</td>\n",
       "    </tr>\n",
       "    <tr>\n",
       "      <th>3</th>\n",
       "      <td>1.551020</td>\n",
       "    </tr>\n",
       "    <tr>\n",
       "      <th>4</th>\n",
       "      <td>1.734694</td>\n",
       "    </tr>\n",
       "  </tbody>\n",
       "</table>\n",
       "</div>"
      ],
      "text/plain": [
       "       Data\n",
       "0  1.000000\n",
       "1  1.183673\n",
       "2  1.367347\n",
       "3  1.551020\n",
       "4  1.734694"
      ]
     },
     "execution_count": 42,
     "metadata": {},
     "output_type": "execute_result"
    }
   ],
   "source": [
    "#Lists\n",
    "my_list_of_numbers = [4, 3, 2, 1, 0]\n",
    "my_list_of_strings = [\"apple\", \"banana\", \"orange\"]\n",
    "\n",
    "#Indexing in list\n",
    "my_list_of_strings[1] \n",
    "my_list_of_strings[-1]\n",
    "\n",
    "#Change existing item in list \n",
    "my_list_of_numbers[2] = 5\n",
    "\n",
    "#Add item to list \n",
    "my_list_of_strings.append(\"peach\")\n",
    "\n",
    "#Remove item from list\n",
    "my_list_of_strings.remove(\"banana\")\n",
    "\n",
    "#Dictionaries\n",
    "my_dict = {\"ppID\": 1, \n",
    "            \"sensor\": \"Sensor\",\n",
    "            \"data\": [14, 47, 41, 6, 35, 12, 27, 48, 0, 25, 11, 36, 26, 28, 32]}\n",
    "\n",
    "#Indexing in dictionary\n",
    "my_dict.keys() # get the keys\n",
    "my_dict[\"data\"] # get the data values \n",
    "my_dict[\"data\"][3] # get the fourth item of the data\n",
    "\n",
    "#numpy array\n",
    "my_array = np.linspace(1,10)\n",
    "my_matrix = my_array.reshape(10,5)\n",
    "\n",
    "#pandas DataFrame\n",
    "my_df = pd.DataFrame({'Data': my_array})"
   ]
  },
  {
   "cell_type": "markdown",
   "id": "4ac61938",
   "metadata": {},
   "source": [
    "## Loops and conditional statements \n",
    "There are a few things that are important when consideing loops, statement (and also functions, but more on that later). \n",
    "  \n",
    "1. The first line always end with a colon (:). If the colon is missing you get a <font color=\"red\">SyntaxError:</font> \n",
    "2. Indentation of the following lines are important. Either a tab of 4 spaces. Otherwise you get an  \n",
    "    <font color=\"red\">IndentationError:</font>\n",
    "    - If the colon is placed correctly, indentation should be automatic."
   ]
  },
  {
   "cell_type": "markdown",
   "id": "fd09c257",
   "metadata": {},
   "source": [
    "#### For loops\n",
    "In python it is very easy to loop over items in a list. In Python programming, you can directly access the items in a list of dictionary using the keyword *in*. This is unlike programming languages like MATLAB where you need to index into the list to access the desired item. The python syntax shows how powerful it is to have an easy to understand syntax.\n",
    "\n",
    "Example MATLAB code:\n",
    "~~~\n",
    "for i=1:5\n",
    "    subj = subject_list[i]\n",
    "    disp(\"Analyzing \", subj)\n",
    "~~~    \n",
    "\n",
    "Example Python code: \n",
    "~~~\n",
    "for subj in subject_list:\n",
    "    print(\"Analyzing {}\".format(subj))\n",
    "~~~"
   ]
  },
  {
   "cell_type": "code",
   "execution_count": 22,
   "id": "67053823",
   "metadata": {
    "scrolled": true
   },
   "outputs": [
    {
     "name": "stdout",
     "output_type": "stream",
     "text": [
      "Looping over the numbers in a list\n",
      "4\n",
      "3\n",
      "5\n",
      "1\n",
      "0\n",
      "\n",
      "Looping over the items in a list and printing the index along side it\n",
      "0 apple\n",
      "1 orange\n",
      "2 peach\n"
     ]
    }
   ],
   "source": [
    "#Just print item in list\n",
    "print(\"Looping over the numbers in a list:\")\n",
    "for number in my_list_of_numbers:\n",
    "    print(number)\n",
    "    \n",
    "print('\\nLooping over the items in a list and printing the index along side it:')\n",
    "#Print item in list and extract the index of that item with the enumerate function\n",
    "for index, string in enumerate(my_list_of_strings):\n",
    "    print(index, string)"
   ]
  },
  {
   "cell_type": "markdown",
   "id": "eceb7da0",
   "metadata": {},
   "source": [
    "#### Conditional statements"
   ]
  },
  {
   "cell_type": "code",
   "execution_count": 17,
   "id": "4cd6e45f",
   "metadata": {},
   "outputs": [
    {
     "name": "stdout",
     "output_type": "stream",
     "text": [
      "x equals 2\n"
     ]
    }
   ],
   "source": [
    "x=2\n",
    "\n",
    "if x==3:\n",
    "    print(\"x equals 3\")\n",
    "elif x==2:\n",
    "    print(\"x equals 2\")\n",
    "else:\n",
    "    print(\"x equals something else\")    "
   ]
  },
  {
   "cell_type": "markdown",
   "id": "d632867d",
   "metadata": {},
   "source": [
    "#### While loop"
   ]
  },
  {
   "cell_type": "code",
   "execution_count": 18,
   "id": "c7104680",
   "metadata": {},
   "outputs": [
    {
     "name": "stdout",
     "output_type": "stream",
     "text": [
      "I'm still confused about while statements... \n",
      "I'm still confused about while statements... \n",
      "I'm still confused about while statements... \n",
      "I'm still confused about while statements... \n",
      "I'm still confused about while statements... \n",
      "I'm still confused about while statements... \n",
      "Wait, I think I got it ;)\n"
     ]
    }
   ],
   "source": [
    "still_on = True\n",
    "x = 0\n",
    "\n",
    "while still_on:\n",
    "    print(\"I'm still confused about while statements... \")\n",
    "    x += 1\n",
    "    \n",
    "    if x > 5:\n",
    "        still_on = False\n",
    "        print(\"Wait, I think I got it ;)\")"
   ]
  },
  {
   "cell_type": "markdown",
   "id": "afcc6d84",
   "metadata": {},
   "source": [
    "## Functions\n",
    "Functions in Python are usually written when a certain block of code should be repeatable or repeated many times. They can be enbedded in the document itself (like at the top of this jupyter notebook). Or they can be in a seperate document. \n",
    "<div class=\"alert alert-block alert-info\">    \n",
    "<b>Note:</b> If the function is in a seperate document, you'd need to import it in your script: \n",
    "<b><font color=\"green\">from</font></b> my_function_file <b><font color=\"green\">import</font></b> my_function\n",
    "</div>\n",
    "\n",
    "The key elements of a function are: \n",
    "1. The **<font color=\"green\">def</font>** keyword\n",
    "    - This tells python that the following code is a function\n",
    "2. The **function name** followed by parentheses and a colon. \n",
    "> ~~~\n",
    "def my_function_name():\n",
    "> ~~~\n",
    "\n",
    "3. **Indentation matters!**\n",
    "    - Similar to the loops and conditional statements, the indentation of the code body should be 1 tab or 4 spaces from the border. \n",
    "    - Again, if the key factors are correct, the indentation should be automatic\n",
    "    \n",
    "***\n",
    "4. The **input parameters** hithin the paranthesis (optional). \n",
    "<div class=\"alert alert-block alert-warning\">\n",
    "    <b>Example:</b> In the welcome_message function defined in the first code cell there are three input parameters (conference, location, and occation) needed to print the welcome message. There we put the relevant strings in order of appearance. You could also use the keywords (e.g. *location*) to specify the input, then the order does not matter. \n",
    "</div>\n",
    "\n",
    "> ~~~\n",
    "welcome_message(\"esmac-2024\", \"Oslo\", \"python seminar\")\n",
    "welcome_message(location=\"Oslo\", occation=\"Python seminar\", conference=\"esmac-2024\")\n",
    "> ~~~\n",
    "\n",
    "5. The **return** statement (optional---to return or not to return). \n",
    "    - the function for the welcome measage does not return anything. So once the mesage is printed nothing can be changed about it. there are no retured variables to play with afterwards. \n",
    "    - Placing the **<font color=\"green\">return</font>** keyword at the end of the function allowes you to specify the variables to keep.\n",
    "***    \n",
    "\n",
    "> ~~~\n",
    "def welcome_message(conference, location, occation):\n",
    "    msg = \"Welcome to {} in {}!\\nWe hope you enjoy the {}\".format(conference, \n",
    "                                                                  location, occation)\n",
    "    return msg\n",
    "> ~~~\n",
    "    \n",
    "<div class=\"alert alert-block alert-info\">\n",
    "<b>Note:</b> The function will only return the parameters that are specified and no code should come after the return statement. That code will not run (except ofcourse in conditional statements).\n",
    "    \n",
    "\n"
   ]
  },
  {
   "cell_type": "code",
   "execution_count": null,
   "id": "25029616",
   "metadata": {},
   "outputs": [],
   "source": [
    "# example function\n",
    "\n",
    "def grab(fl, ext):\n",
    "    \"\"\"\n",
    "    Grabs the data that is in the folders\n",
    "    :param fl: str full path to file\n",
    "    :param ext: str extension of the file\n",
    "    :return:\n",
    "    \"\"\"\n",
    "    \n",
    "    if ext ==\"json\":\n",
    "        with open(fl, \"r\") as f:\n",
    "            r = json.load(f)\n",
    "    elif ext == \"csv\":\n",
    "        r = pd.read_csv(fl)\n",
    "\n",
    "    return r\n",
    "\n"
   ]
  }
 ],
 "metadata": {
  "kernelspec": {
   "display_name": "Python 3 (ipykernel)",
   "language": "python",
   "name": "python3"
  },
  "language_info": {
   "codemirror_mode": {
    "name": "ipython",
    "version": 3
   },
   "file_extension": ".py",
   "mimetype": "text/x-python",
   "name": "python",
   "nbconvert_exporter": "python",
   "pygments_lexer": "ipython3",
   "version": "3.10.9"
  }
 },
 "nbformat": 4,
 "nbformat_minor": 5
}
