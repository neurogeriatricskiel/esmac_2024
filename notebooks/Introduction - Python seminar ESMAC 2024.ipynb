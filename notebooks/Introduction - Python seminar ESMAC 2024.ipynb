{
 "cells": [
  {
   "cell_type": "markdown",
   "id": "13371220",
   "metadata": {},
   "source": [
    "# Introdcution to Python for Movement Scientists\n",
    "\n",
    "This Jupyter notebook summarizes the basic needs for Python programming. It is by no means an exclusive list, but is should be enough to get started.\n",
    "\n",
    "The commands here are universal across platforms (mac os/windows/linux), across programming IDEs or programming notebooks. \n",
    "\n",
    "## The first step to any python script is importing the packages"
   ]
  },
  {
   "cell_type": "code",
   "execution_count": 6,
   "id": "f3226d52",
   "metadata": {},
   "outputs": [],
   "source": [
    "import pandas as pd\n",
    "import numpy as np\n",
    "import matplotlib.pyplot as plt"
   ]
  },
  {
   "cell_type": "markdown",
   "id": "1b4344bb",
   "metadata": {},
   "source": [
    "## The second step is to define any functions"
   ]
  },
  {
   "cell_type": "code",
   "execution_count": 3,
   "id": "a4c0b5eb",
   "metadata": {},
   "outputs": [],
   "source": [
    "def welcome_message(conference, location, occation):\n",
    "    \n",
    "    \n",
    "    message = \"Welcome to {} in {}!\\nWe hope you enjoy the {}\".format(conference, location, occation)\n",
    "\n",
    "    return message\n"
   ]
  },
  {
   "cell_type": "markdown",
   "id": "836e2443",
   "metadata": {},
   "source": [
    "## The third step is to have the code"
   ]
  },
  {
   "cell_type": "code",
   "execution_count": 4,
   "id": "4ba1ef25",
   "metadata": {},
   "outputs": [
    {
     "name": "stdout",
     "output_type": "stream",
     "text": [
      "Welcome to esmac-2024 in oslo!\n",
      "We hope you enjoy the python seminar\n"
     ]
    }
   ],
   "source": [
    "message = welcome_message(\"esmac-2024\", \"oslo\", \"python seminar\")\n",
    "\n",
    "print(message)"
   ]
  }
 ],
 "metadata": {
  "kernelspec": {
   "display_name": "Python 3 (ipykernel)",
   "language": "python",
   "name": "python3"
  },
  "language_info": {
   "codemirror_mode": {
    "name": "ipython",
    "version": 3
   },
   "file_extension": ".py",
   "mimetype": "text/x-python",
   "name": "python",
   "nbconvert_exporter": "python",
   "pygments_lexer": "ipython3",
   "version": "3.10.9"
  }
 },
 "nbformat": 4,
 "nbformat_minor": 5
}
