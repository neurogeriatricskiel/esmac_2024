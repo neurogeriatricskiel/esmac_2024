{
 "cells": [
  {
   "attachments": {},
   "cell_type": "markdown",
   "id": "13371220",
   "metadata": {},
   "source": [
    "# Introdcution to Python for Movement Scientists\n",
    "\n",
    "This Jupyter notebook is part of the *Python programming for the movement sciences* to give you a crude introduction to the language and some usefull biomechanics python packages. This seminar is hardly enough for you to learn Python, but it provides the basic knowledge needed to get started. <br>\n",
    "The information in the introduction will be enough to understand Python concepts and relevant packages that you will inspect in the tutorials!\n",
    "The commands shown here are universal across all platforms (mac os/windows/linux), across programming IDEs (e.g. PyCharm, VSCode) or programming notebooks (e.g. Jupyter notebook, Google Colab).\n",
    "\n",
    "This notebook will show you the basics of Python scripting. Starting with a general flow of Python code, then the primary data types. Followed by the collections that can be used to store multiple variables, loops and condition statements. Essensial packages for movement scientists to know. Input statement to load data from documents, and save data back into another file format. Lastly, Object-Oriented Programming and Python functions are being discussed."
   ]
  },
  {
   "cell_type": "markdown",
   "id": "7c3ad68f",
   "metadata": {},
   "source": [
    "## General flow of Python script\n",
    "\n",
    "1. Import statements at the top of the page: `import [library]`\n",
    "2. Any and all functions: `def my_function():`\n",
    "3. The code body"
   ]
  },
  {
   "cell_type": "code",
   "execution_count": 59,
   "id": "f3226d52",
   "metadata": {
    "ExecuteTime": {
     "start_time": "2024-08-19T10:26:21.272844Z",
     "end_time": "2024-08-19T10:26:21.368424Z"
    }
   },
   "outputs": [
    {
     "name": "stdout",
     "output_type": "stream",
     "text": [
      "Welcome to esmac-2024 in Oslo!\n",
      "We hope you enjoy the python seminar\n"
     ]
    }
   ],
   "source": [
    "# 1. Import statements\n",
    "import pandas as pd\n",
    "import numpy as np\n",
    "import matplotlib.pyplot as plt\n",
    "\n",
    "# 2. Functions\n",
    "def welcome_message(conference, location, occation):\n",
    "    print(\"Welcome to {} in {}!\\nWe hope you enjoy the {}\".format(conference, location, occation))\n",
    "\n",
    "    \n",
    "# 3. The code\n",
    "welcome_message(\"esmac-2024\", \"Oslo\", \"python seminar\")"
   ]
  },
  {
   "cell_type": "markdown",
   "id": "ee1cbee2",
   "metadata": {},
   "source": [
    "## Data types\n",
    "The 4 basic data types in Python are: **textual data** in the form of strings (`str`); **numerical data** like integers (`int`), floating point numbers (`float`), and complex numbers; and **Booleans** like `True` and `False`. All these data types are considered a scaler type, meaning, single elements.\n",
    "\n",
    "* String\n",
    "~~~\n",
    "\"Hello\"\n",
    "'Hello'\n",
    "~~~\n",
    "\n",
    "* Subscripting string\n",
    "~~~\n",
    "print(\"Hello\"[0]) # first\n",
    "print(\"Hello\"[-1]) # last\n",
    "print(\"Hello\" + \" \" + \"World\")\n",
    "~~~\n",
    "\n",
    "* Integer -- whole numbers\n",
    "~~~\n",
    "print(123 + 345)\n",
    "~~~\n",
    "\n",
    "* Float (floating point number)\n",
    "~~~\n",
    "pi = 3.14159\n",
    "print(pi)\n",
    "~~~\n",
    "\n",
    "* Complex\n",
    "~~~\n",
    "2 + 3j\n",
    "complex(2, 3)\n",
    "~~~\n",
    "\n",
    "* Boolean\n",
    "~~~\n",
    "True\n",
    "False\n",
    "~~~\n",
    "\n",
    "* To go from one data type to the other i.e., Type casting\n",
    "~~~\n",
    "print(type(pi))\n",
    "print(type(str(pi)))\n",
    "# int()\n",
    "# float()\n",
    "# str()\n",
    "~~~\n",
    "\n",
    "<div class=\"alert alert-block alert-info\">\n",
    "<b>Note:</b> The operations that can be done on the data depend on the data type (e.g. addition (*) works different on strings, then they do on numerical types)\n",
    "</div>"
   ]
  },
  {
   "cell_type": "markdown",
   "id": "17de78a1",
   "metadata": {},
   "source": [
    "#### Common errors\n",
    "Common errors with these data types are Syntax errors and Type errors. When considering strings, the wrong use of quotation marks causes a <font color='red'>SyntaxError </font>. Using the wrong data type for build in functions will cause <font color='red'>TypeError</font>\n",
    "Python is very peculiar on the data type that is used. Some examples are listed below:"
   ]
  },
  {
   "cell_type": "code",
   "execution_count": 60,
   "outputs": [
    {
     "name": "stdout",
     "output_type": "stream",
     "text": [
      "This is a 'valid' string\n"
     ]
    }
   ],
   "source": [
    "print(\"This is a 'valid' string\")"
   ],
   "metadata": {
    "collapsed": false,
    "ExecuteTime": {
     "start_time": "2024-08-19T10:26:21.279039Z",
     "end_time": "2024-08-19T10:26:21.368685Z"
    }
   }
  },
  {
   "cell_type": "code",
   "execution_count": 61,
   "outputs": [
    {
     "ename": "SyntaxError",
     "evalue": "invalid syntax. Perhaps you forgot a comma? (3718664334.py, line 1)",
     "output_type": "error",
     "traceback": [
      "\u001B[0;36m  Cell \u001B[0;32mIn[61], line 1\u001B[0;36m\u001B[0m\n\u001B[0;31m    print(\"This is \"not a valid\" string\") # Using the same quotations marks within one string will cause an error\u001B[0m\n\u001B[0m          ^\u001B[0m\n\u001B[0;31mSyntaxError\u001B[0m\u001B[0;31m:\u001B[0m invalid syntax. Perhaps you forgot a comma?\n"
     ]
    }
   ],
   "source": [
    "print(\"This is \"not a valid\" string\") # Using the same quotations marks within one string will cause an error"
   ],
   "metadata": {
    "collapsed": false
   }
  },
  {
   "cell_type": "code",
   "execution_count": null,
   "outputs": [],
   "source": [
    "len(\"python\")"
   ],
   "metadata": {
    "collapsed": false,
    "ExecuteTime": {
     "start_time": "2024-08-19T09:59:33.303654Z",
     "end_time": "2024-08-19T09:59:33.308913Z"
    }
   }
  },
  {
   "cell_type": "code",
   "execution_count": null,
   "outputs": [],
   "source": [
    "len(5) #Using the len function on integers cuases a TypeError, because the integer has no length."
   ],
   "metadata": {
    "collapsed": false
   }
  },
  {
   "cell_type": "markdown",
   "id": "a4ea3f3b",
   "metadata": {},
   "source": [
    "## Data structures\n",
    "Data structures are a way of organizing and storing grouped pieces of data in python. Usually these pieces of data have a relationship with each other. This is also the way to store data in a certain order (e.g. time series data). Here lists and dictionaries are shown. Lists and dictionaries are part of the standard python library and form the basis of the python language.\n",
    "\n",
    "1. Lists:  `my_list = [item1, item2, item3]`\n",
    "    - Can store any data type you'd want and can even combine data types in a single list\n",
    "    - List output looks like an array [1, \"hello\", 2.2]    \n",
    "    - They can be modified and added onto when needed: `my_list.append(item4)`\n",
    "    - Items can also easily be removed: `my_list.remove(item2)`\n",
    "\n",
    "2. Dictionaries: \n",
    "    ```\n",
    "    my_dict = {\"key1\": item1, \n",
    "             \"key2\": item2,\n",
    "             ... }\n",
    "    ```\n",
    "    - A dictionary contains a key, which is a string, with an associated item. This item can be whatever, a scalar, a list or another dictionary:\n",
    "    ~~~\n",
    "      my_dict = {\"ppID\": 1,\n",
    "                \"sensor\": \"Sensor\",\n",
    "                \"data\": [14, 47, 41, 6, 35, 12, 27, 48, 0, 25, 11, 36, 26, 28, 32]}\n",
    "    ~~~\n",
    "    - It is very easy to index into dictionaries and explore it's content:\n",
    "        - To get the keys: `my_dict.keys()`\n",
    "        - To get the content of a specific key: `my_dict[\"data\"]`\n",
    "        - To get a specific value within the key 'data': `my_dict[\"data\"][4]`\n",
    "    \n",
    "    \n",
    "    \n",
    "                \n",
    "\n",
    "<div class=\"alert alert-block alert-info\">\n",
    "    <b>Tip:</b> Indexing in the datastructures start from 0. This can be visualised as an offset from the start. Meaning, the first item has an offset of zero, whereas the second item has an ofset of 1 and so forth. The last item can be accessed with -1 (i.e. the offset of -1 from the start)\n",
    "</div>"
   ]
  },
  {
   "cell_type": "markdown",
   "id": "4ac61938",
   "metadata": {},
   "source": [
    "## Loops and conditional statements \n",
    "There are a few things that are important when considering loops, statement (and also functions, but more on that later).\n",
    "  \n",
    "1. The first line always end with a colon ( : ). If the colon is missing you get a <font color=\"red\">SyntaxError:</font>\n",
    "2. Indentation of the following lines are important. Either a tab of 4 spaces. Otherwise, you get an\n",
    "    <font color=\"red\">IndentationError:</font>\n",
    "    - If the colon is placed correctly, indentation should be automatic.\n",
    "3. Contrary to MATLAB programming, a loop, conditional statement (or function) do not end with an `end` statement.\n",
    "    - the end is indicated with a black line and a reset of the indentation"
   ]
  },
  {
   "cell_type": "markdown",
   "id": "fd09c257",
   "metadata": {},
   "source": [
    "#### For loops\n",
    "In python, it is very easy to loop over items in a list. In Python programming, you can directly access the items in a list of dictionary using the keyword `in` (e.g., `for item in a_list:`). This is unlike programming languages like MATLAB where you need to index into the list to access the desired item. The python syntax shows how powerful it is to have an easy-to-understand syntax.\n",
    "\n",
    "Example MATLAB code:\n",
    "~~~\n",
    "for i=1:5\n",
    "    subj = subject_list[i]\n",
    "    disp(\"Analyzing \", subj)\n",
    "    disp(\"Data saved on index nr: num2str(i))\n",
    "end\n",
    "~~~\n",
    "\n",
    "Example Python code: \n",
    "~~~\n",
    "# very simple loop\n",
    "for subj in subject_list:\n",
    "    print(\"Analyzing {}\".format(subj))\n",
    "\n",
    "# To also loop over the index for posible saving purposes\n",
    "for i, subj in enumarate(subject_list):\n",
    "    print(\"Analyzing {}\".format(subj))\n",
    "    print(\"Data saved on index nr: {}\".format(i))\n",
    "~~~"
   ]
  },
  {
   "cell_type": "markdown",
   "id": "eceb7da0",
   "metadata": {},
   "source": [
    "#### Conditional statements\n",
    "\n",
    "\n",
    "~~~\n",
    "x=2\n",
    "\n",
    "if x==3:\n",
    "    print(\"x equals 3\")\n",
    "elif x==2:\n",
    "    print(\"x equals 2\")\n",
    "else:\n",
    "    print(\"x equals something else\")\n",
    "~~~"
   ]
  },
  {
   "cell_type": "markdown",
   "id": "d632867d",
   "metadata": {},
   "source": [
    "#### While loop\n",
    "~~~\n",
    "still_on = True\n",
    "x = 0\n",
    "\n",
    "while still_on:\n",
    "    print(\"I'm still confused about while statements... \")\n",
    "    x += 1\n",
    "\n",
    "    if x > 5:\n",
    "        still_on = False\n",
    "        print(\"Wait, I think I got it ;)\")\n",
    "~~~"
   ]
  },
  {
   "cell_type": "markdown",
   "id": "afcc6d84",
   "metadata": {},
   "source": [
    "## Functions\n",
    "Functions in Python are usually written when a certain block of code should be repeatable or repeated many times. They can be embedded in the document itself (like at the top of this jupyter notebook). Or they can be in a separate document. If the function is in a separate document, you'd need to import it in your script:\n",
    "`from my_function_file import my_function`\n",
    "\n",
    "The key elements of a function are: \n",
    "1. The `def` keyword\n",
    "    - This tells python that the following code is a function\n",
    "2. The function name followed by parentheses and a colon: `def my_function_name():`\n",
    "\n",
    "3. Indentation matters!\n",
    "    - Similar to the loops and conditional statements, the indentation of the code body should be 1 tab or 4 spaces from the border. (There are a lot of discussions on the internet on which is best, but both have the same functionality)\n",
    "    - Again, if the key factors are correct, the indentation should be automatic\n",
    "\n",
    "4. The input parameters within the parenthesis (optional).\n",
    "    - If your function needs some input parameters, like with the welcome message, this is where you specify them.\n",
    "    - These inputs (keys) can be used to assign certain variables to the function.\n",
    "    - When calling the function, you can either put the relevant strings in order of appearance, or you can use the keywords to specify the input, then the order does not matter:\n",
    "    ~~~\n",
    "    welcome_message(\"esmac-2024\", \"Oslo\", \"python seminar\")\n",
    "    welcome_message(location=\"Oslo\", occation=\"Python seminar\", conference=\"esmac-2024\")\n",
    "    ~~~\n",
    "\n",
    "5. The return statement (optional---to return or not to return).\n",
    "    - the function for the welcome message does not return anything. So once the message is printed nothing can be changed about it. There are no returned variables to play with afterward.\n",
    "    - Placing the `return` keyword at the end of the function allows you to specify the variables to extract from the function.\n",
    "    - The function will not run beyond the return statement. So any code beyond the return statement will not be considered.\n",
    "~~~\n",
    "# Rewrite of the welcome-message with a return statement\n",
    "def welcome_message(conference, location, occation):\n",
    "    msg = \"Welcome to {} in {}!\\nWe hope you enjoy the {}\".format(conference, \n",
    "                                                                  location, occation)\n",
    "    return msg\n",
    "~~~\n",
    "\n",
    "### A (slightly more) relevant function example :)\n",
    "~~~\n",
    "import json  # json is a datastructure very similar to python dictionaries.\n",
    "import ezc3d\n",
    "\n",
    "def grab(fl, ext):\n",
    "    \"\"\"\n",
    "    Grabs the data that is in the folders\n",
    "    :param fl: str full path to file\n",
    "    :param ext: str extension of the file\n",
    "    :return r: extension specific datastructure\n",
    "    \"\"\"\n",
    "\n",
    "    if ext ==\"json\":\n",
    "        with open(fl, \"r\") as f:\n",
    "            r = json.load(f)\n",
    "    elif ext == \"csv\":\n",
    "        r = pd.read_csv(fl)\n",
    "    elif ext == \"c3d:\n",
    "        r = ezc3d.c3d(c3d_file_path)\n",
    "\n",
    "    return r\n",
    "~~~\n",
    "\n",
    "Most functions contain \"docstrings\". That is the block of text under the function definition enclosed by the triple quotation marks. Within these docstrings you can specify what the function does, which parameters are needed, and what it returns. Once the function is specified, and you call the function, you can hover over the parenthesis with your mouse, and it will give the information presented in the docstring."
   ]
  },
  {
   "cell_type": "markdown",
   "id": "c44f7c7a",
   "metadata": {},
   "source": [
    "## Debugging\n",
    "Debugging can be a hassle in Python. Here in Jupyter Notebook, there is no debugging button you can click. The advantage of Jupyter notebook or Google Colab is that you can run cell by cell to see where you are going wrong. But it is harder to debug functions that way, as you cannot step into the function to see what happens. In those cases small and simple IDEs like __[Thonny](https://thonny.org)__ can come in handy. Copy past your code, and visually see what happens. When using IDEs like PyCharm, DataSpell, ect, there is a debugging button. Just set a break point where you need it and run your script by pressing the *bug* icon. Then you can step into the code and see what is happening and find the error."
   ]
  },
  {
   "cell_type": "markdown",
   "id": "2c5c2e48",
   "metadata": {},
   "source": [
    "# Object-Oriented Programming (OOP)\n",
    "Object-Oriented Programming is a programming paradime based on objects or data rather than functions. This is approach is well suited for projects that are large and complex. <br>\n",
    "The structure of OOP makes it exceptionally suited for collaborative development and code usability. Movement science project often have different aspects to them. Starting with extracting the data, some preprocessing steps, possible filtering or normalisation, the actual analysis e.g. step detection; and calculating the outcome variables. All these different components of a movement science project could be considered **modules**. When used correctly, OOP simplifies the relationships within the project. However, it might be hard to start with, as most programming is taught using a functions approach. <br>\n",
    "\n",
    "The first step in OOP is to identify all the objects you'd want to manipulate and how they relate to each other. The structure of OOP is as follows:\n",
    "1. Classes\n",
    "    - The blueprints that models real-life object\n",
    "2. Objects\n",
    "    - The individual objects that are generated from the blueprint\n",
    "3. Attributes\n",
    "    - The characteristics/variables that define the objects\n",
    "4. Methods\n",
    "    - The functions of the objects.  \n",
    "\n",
    "Python is currently one of the most popular programming languages that is build around OOP. The telltale use of the code has the structure of **object.method()**. For example: `my_array.max()`---find the maximum value in the array; or `my_dataframe.head()`---displays the first 5 rows of the DataFrame. Here, you have the object `my_array` or `my_dataframe`  that is constructed from the class Array or DataFrame and using the functionality of the methods like `max()` or `head()`, the data can be manipulated.\n",
    "\n",
    "Now that you know a bit about OOP, we can apply this knowledge on working with data. Every object, such as a numpy, pandas or pyplot object has *methods* associated with it. **Tip:** Within Jupyter notebook you can use the TAB button to get an overview of the available methods. For example: `pd.` + TAB\n",
    "\n",
    "<div class=\"alert alert-box alert-warning\">\n",
    "    <b>Example:</b> If you want to run a virtual restaurant you'd need (at least) a waiter, server, chef, and manager. That means that you have the <i>waiter class</i> which is the blueprint for the waiter. When createing a single waiter to handle the restaurant, then that becomes the <i>waiter objects</i>. To builed the waiter object  the two most important things that make up this object are: <br>\n",
    "> what it <b>has</b>: holds_plate=True; tables_responsible=[1,2,3] <br>\n",
    "> what it <b>does</b> def taking_oder(table, order): def takes_payment(amount):.<br>\n",
    "What it has are the <i>atributes</i> and what it does are the <i>methods</i>. The atributes are basically variables that are associated with the modeld object. The methods are the functions that a modeld object can do.\n",
    "</div>"
   ]
  },
  {
   "cell_type": "markdown",
   "source": [
    "# Working with data\n",
    "For movement science, the libraries that you will definitely encounter as movement scientist are: __[NumPy](https://numpy.org)__, __[pandas](https://pandas.pydata.org)__, __[SciPy](https://scipy.org)__,  and __[Matplotlib](https://matplotlib.org)__. Before you are able to use these libraries, you need to make sure they are installed in your virtual environment. These three libraries work seamlessly together to get the best experience with handling large data-sets.<br>\n",
    "Important for all these libraries, they all follow the OOP structure. What this means concretely: from the class blueprint of <i>ndarray</i> you create an array object `b = np.arange(12).reshape(3, 4)`, and then you are able to directly apply the class methods on that object `b.cumsum(axis=1)`. The same is true for the pandas DataFrame and matplotlib pyplot.\n",
    "\n",
    "<div class=\"alert alert-block alert-info\">\n",
    "<b>Tip:</b> It is impossible to list all possibilities in this seminar, therefore\n",
    "<a href=\"https://numpy.org/doc/stable/user/absolute_beginners.html#numpy-the-absolute-basics-for-beginners\"><b>NumPy: the absolute basics for beginners</b></a>,\n",
    "<a href=\"https://pandas.pydata.org/Pandas_Cheat_Sheet.pdf\"><b>pandas cheat sheet</b></a>,\n",
    "<a href=\"https://docs.scipy.org/doc/scipy/tutorial/index.html#user-guide\"><b>SciPy User Guide</b></a> and\n",
    "<a href=\"https://matplotlib.org/stable/users/explain/quick_start.html\"><b>matplotlib quick start guide</b></a>\n",
    "are a very usefull reference guides.\n",
    "</div>\n"
   ],
   "metadata": {
    "collapsed": false
   }
  },
  {
   "cell_type": "markdown",
   "source": [
    "#### NumPy\n",
    "NumPy (**N**umerical **P**ython) is the most used library for scientific computing and engineering. Even is you don't use it directly, there is a good chance that other libraries you use rely on it in the background. NumPy provides powerful multidimensional array structures (`ndarray`) and the tools for comprehensive assortment of methods that operate efficiently on those arrays including mathematical, discrete Fourier transforms, basic linear algebra, basic statistics and much more.\n",
    "\n",
    "Some essentials:\n",
    "1. `ndarray` has a homogenous datatype (unlike lists)\n",
    "2. Element-by-element operations are default (vectorization and broadcasting)\n",
    "3. Shape of the ndarray is fixed: e.g. [] (empty) 500 (one-dimensional), 2x500 (two-dimensional), or 2x2x500 (three-dimensional)\n",
    "4. Easy to pre-allocate variables `np.zeros((nrow, ncol))`\n",
    "5. Fully supports Object-Oriented Programming where ndarray is the class\n",
    "\n",
    "\n"
   ],
   "metadata": {
    "collapsed": false
   }
  },
  {
   "cell_type": "markdown",
   "source": [
    "#### pandas\n",
    "Pandas is the second essential library for data science. The pandas are build on top of NumPy, and it is the easies ways to import data that is saved in text, csv, or Excel files. It has been created to work with *relational* or *labeled* data.  <br>\n",
    "Some essentials:\n",
    "1. The two primary data structures are `pandas.Series` (1D) and `pandas.DataFrame` (2D)\n",
    "2. Series and DataFrames can contain heterogeneous datatypes (e.g. col1=str (subj_id), col2=bool (female True/False), col3=int (age), col4=float (peak_knee_angle)...)\n",
    "3. Shape and size is mutable: columns can be added and deleted\n",
    "4. Powerful **group by** functions: `raw_data.group_by(\"Sex\")`\n",
    "5. Label-based slicing and indexing: e.g. `data.peak_knee_angle.max()` or `data[\"peak_knee_angle\"].max()`\n",
    "6. Time-series specific functionality: e.g. date range generation and frequency conversion, moving window statistics, date shifting, and lagging.\n",
    "\n",
    "How to use pandas to read and write data:\n",
    "~~~\n",
    "import pandas as pd\n",
    "data = pd.read_csv(\"/file_path/file_name.csv\")\n",
    "data.head() # prints first 5 rows of the DataFrame\n",
    "data.info() # prints the detailed info for the DataFrame\n",
    "data.describe() # prints the descriptive statistics of the data\n",
    "data[\"column_name\"].plot()\n",
    "data.plot.scatter(x=\"peak_knee_angle\", y=\"running_velocity\")\n",
    "data.to_excel(\"file_path/file_name.xlsx\")\n",
    "~~~"
   ],
   "metadata": {
    "collapsed": false
   }
  },
  {
   "cell_type": "markdown",
   "source": [
    "#### SciPy\n",
    "SciPy (**S**cientific **P**ython) is an extension of the NumPy library that adds more scientific functionalities by providing extensions of array computing and specialized datastructures. There is a full list of methods on the user guide in the SciPy documentation, but some useful ones to keep an eye on are: `scipy.interpolate` for interpolation purposes; `scipy.fft` fast-fourier transform; and `scipi.signal` for signal processing."
   ],
   "metadata": {
    "collapsed": false
   }
  },
  {
   "cell_type": "markdown",
   "source": [
    "#### matplotlib\n",
    "Matplotlib is a standard visualization library for Python. There are others (e.g. seaborn, plotly), but matplotlib is a good place to start learning the basics.\n",
    "\n",
    "Some essentials:\n",
    "1. works excellently with pandas: e.g. `data[\"column_name\"].plot()` or `data.plot.scatter(x=\"peak_knee_angle\", y=\"running_velocity\")` for quick and dirty visualization\n",
    "2. For more control the matplotlib.pyplot class is imported as plt and used for plotting purpses: `import matplotlib.pyplot as plt`\n",
    "\n",
    "3. Matplotlib graphs the data on a *Figure* that can contain one or more *Axes*\n",
    "   ~~~\n",
    "   x = np.arange(4) # define the data for the x-axis\n",
    "   y = np.arange(4)**2 # define the data for the y-axis\n",
    "\n",
    "   fig, ax = plt.subplots()\n",
    "   ax.plot(x, y)\n",
    "   plt.show()\n",
    "   ~~~\n",
    "    - Depending on the environment, `plt.show()` can be left out.\n",
    "4. The Axes methods are the primary interface to configure most parts of the plot.\n",
    "    - Add data: `Axes.scatter()`\n",
    "    - set title: `Axes.set_title()`\n",
    "    - set labels: `Axes.set_ylabel()` or `Axes.set_xlabel()`\n",
    "    - set limits: `Axes.set_xlim([0, 10])`\n",
    "\n",
    "#### Small example"
   ],
   "metadata": {
    "collapsed": false
   }
  },
  {
   "cell_type": "code",
   "execution_count": 62,
   "outputs": [
    {
     "data": {
      "text/plain": "<Figure size 500x270 with 1 Axes>",
      "image/png": "[encoded data removed]"
     },
     "metadata": {},
     "output_type": "display_data"
    }
   ],
   "source": [
    "# simple plot with one axis from pandas dataframe\n",
    "# Create dictionary\n",
    "x = np.linspace(0, 5, 100)\n",
    "data = {\"x\": x,\n",
    "        \"linear\": x,\n",
    "        \"quadratic\": x**2,\n",
    "        \"cubic\": x**3}\n",
    "\n",
    "data_df = pd.DataFrame.from_dict(data)\n",
    "\n",
    "# simple plot with one axes\n",
    "fig, ax = plt.subplots(figsize=(5, 2.7), layout=\"constrained\")\n",
    "ax.plot(\"x\", \"linear\", data=data_df, label=\"Linear\")\n",
    "ax.plot(\"x\", \"quadratic\", data=data_df, label=\"Quadratic\")\n",
    "ax.plot(\"x\", \"cubic\", data=data_df, label=\"Cubic\")\n",
    "ax.set_xlabel(\"x label\")\n",
    "ax.set_ylabel(\"y label\")\n",
    "ax.set_title(\"Simple figure\")\n",
    "ax.legend()\n",
    "plt.show()"
   ],
   "metadata": {
    "collapsed": false,
    "ExecuteTime": {
     "start_time": "2024-08-16T15:57:00.425726Z",
     "end_time": "2024-08-16T15:57:00.532846Z"
    }
   }
  },
  {
   "cell_type": "markdown",
   "source": [
    "Notice, with the above example I have used positional arguments and keyword arguments for the plotting purposes. The specification of the data uses positional arguments: first the data plotted on the x-axis, and then the data plotted on the y-axis. The keyword arguments are the specific DataFrame where to 'grab' x and y specified by `data` and the label I want to provide in the legend with the `label` keyword. There are many more keyword arguments explained in the used guide."
   ],
   "metadata": {
    "collapsed": false
   }
  }
 ],
 "metadata": {
  "kernelspec": {
   "display_name": "Python 3 (ipykernel)",
   "language": "python",
   "name": "python3"
  },
  "language_info": {
   "codemirror_mode": {
    "name": "ipython",
    "version": 3
   },
   "file_extension": ".py",
   "mimetype": "text/x-python",
   "name": "python",
   "nbconvert_exporter": "python",
   "pygments_lexer": "ipython3",
   "version": "3.10.9"
  }
 },
 "nbformat": 4,
 "nbformat_minor": 5
}
