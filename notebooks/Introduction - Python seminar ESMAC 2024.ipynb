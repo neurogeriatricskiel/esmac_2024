{
 "cells": [
  {
   "cell_type": "markdown",
   "id": "13371220",
   "metadata": {},
   "source": [
    "# Introdcution to Python for Movement Scientists\n",
    "\n",
    "<p>This Jupyter notebook summarizes the basic needs for Python programming. It is by no means an exclusive list, but is should be enough to get started.</p>\n",
    "<p>The commands here are universal across platforms (mac os/windows/linux), across programming IDEs or programming notebooks.</p>\n",
    "\n",
    "<p>This notebook will show you the basiscs of Python scripting. Starting with a general flow of Python code, then the primary data types. Followed by the collections that can be used to store multiple variables, loops and condition statements. Input statement to load data from documents, and save data back into an other file format. Lastly, Python functions are being discussed. </p>\n",
    "\n",
    "<div class=\"alert alert-block alert-info\">\n",
    "<b>Tip:</b> Blue boxes (alert-info) are for tips and notes. \n",
    "If it’s a note, you don’t have to include the word “Note”.\n",
    "</div>\n",
    "\n",
    "<div class=\"alert alert-block alert-warning\">\n",
    "<b>Example:</b> Yellow boxes are for examples that are not \n",
    "inside code cells, or use for mathematical formulas if needed.\n",
    "</div>\n",
    "\n",
    "<div class=\"alert alert-block alert-success\">\n",
    "<b>Up to you:</b> Green boxes are sparingly, and only for some specific \n",
    "purpose that the other boxes can't cover. For example, if you have a lot \n",
    "of related content to link to, maybe you decide to use green boxes for \n",
    "related links from each section of a notebook.\n",
    "</div>\n",
    "\n",
    "<div class=\"alert alert-block alert-danger\">\n",
    "<b>Just don't:</b> In general, we avoid the red boxes. These should only be\n",
    "used for actions that might cause data loss or another major issue.\n",
    "</div>"
   ]
  },
  {
   "cell_type": "markdown",
   "id": "7c3ad68f",
   "metadata": {},
   "source": [
    "## General flow of Python script\n",
    "<ol>\n",
    "    <li> Import statements at the top of the page\n",
    "<!--         <ul> \n",
    "            <li> <font color=\"green\">import</font> [library]\n",
    "            <li> <font color=\"green\">import</font> [library] <font color=\"green\">as</font> [abbr]\n",
    "            <li> <font color=\"green\">from</font> [library] <font color=\"green\">import</font> [package]\n",
    "        </ul>    -->\n",
    "<div class=\"alert alert-block alert-warning\">\n",
    "<b>Example:</b> import [library] || import [library] as [abbr]\n",
    "</div>\n",
    "        \n",
    "    <li> Any and all functions \n",
    "        <ul>\n",
    "            <li> <font color=\"green\">def</font> <font color=\"blue\">my_function</font>():\n",
    "        </ul>\n",
    "    <li> The code body"
   ]
  },
  {
   "cell_type": "markdown",
   "id": "9c343536",
   "metadata": {},
   "source": [
    "#### 1. Import statements"
   ]
  },
  {
   "cell_type": "code",
   "execution_count": 1,
   "id": "f3226d52",
   "metadata": {},
   "outputs": [],
   "source": [
    "# Import statements\n",
    "import pandas as pd\n",
    "import numpy as np\n",
    "import matplotlib.pyplot as plt\n",
    "import random\n",
    "from random import choice"
   ]
  },
  {
   "cell_type": "markdown",
   "id": "1b4344bb",
   "metadata": {},
   "source": [
    "#### 2. Functions"
   ]
  },
  {
   "cell_type": "code",
   "execution_count": 2,
   "id": "a4c0b5eb",
   "metadata": {},
   "outputs": [],
   "source": [
    "def welcome_message(conference, location, occation):\n",
    "    \n",
    "    \n",
    "    message = \"Welcome to {} in {}!\\nWe hope you enjoy the {}\".format(conference, location, occation)\n",
    "\n",
    "    return message\n"
   ]
  },
  {
   "cell_type": "markdown",
   "id": "836e2443",
   "metadata": {},
   "source": [
    "#### 3. The code"
   ]
  },
  {
   "cell_type": "code",
   "execution_count": 3,
   "id": "4ba1ef25",
   "metadata": {},
   "outputs": [
    {
     "name": "stdout",
     "output_type": "stream",
     "text": [
      "Welcome to esmac-2024 in Oslo!\n",
      "We hope you enjoy the python seminar\n"
     ]
    }
   ],
   "source": [
    "message = welcome_message(\"esmac-2024\", \"Oslo\", \"python seminar\")\n",
    "\n",
    "print(message)"
   ]
  },
  {
   "cell_type": "markdown",
   "id": "ee1cbee2",
   "metadata": {},
   "source": [
    "## Data types\n",
    "<p>The 4 basic data types in Python are **textual data** in the form of strings; **numerical data** like integers, floating point numbers, and complex numbers; and **Booleans** like True and False. These are scaler types, meaning, single elements. </p>\n",
    "<p>The opperations that can be done on the data depents on the data type (e.g. *addition* works different on strings, then they do on numerical types)</p>"
   ]
  },
  {
   "cell_type": "code",
   "execution_count": 4,
   "id": "ebe9559c",
   "metadata": {},
   "outputs": [
    {
     "name": "stdout",
     "output_type": "stream",
     "text": [
      "H\n",
      "o\n",
      "Hello World\n",
      "468\n",
      "3.14159\n",
      "<class 'float'>\n",
      "<class 'str'>\n"
     ]
    }
   ],
   "source": [
    "#String\n",
    "\"Hello\"\n",
    "'Hello'\n",
    "\n",
    "#Subscripting string\n",
    "print(\"Hello\"[0]) # first \n",
    "print(\"Hello\"[-1]) # last\n",
    "print(\"Hello\" + \" \" + \"World\")\n",
    "\n",
    "#Integer -- whole numbers\n",
    "print(123 + 345)\n",
    "\n",
    "#Float (floating point number)\n",
    "pi = 3.14159\n",
    "print(pi)\n",
    "\n",
    "#Complex \n",
    "2 + 3j\n",
    "complex(2, 3)\n",
    "\n",
    "#Boolean\n",
    "True\n",
    "False\n",
    "\n",
    "#To go from one Data Type to the other --> Type casting\n",
    "print(type(pi))\n",
    "print(type(str(pi)))\n",
    "# int()\n",
    "# float()\n",
    "# str()"
   ]
  },
  {
   "cell_type": "markdown",
   "id": "4fd2c96e",
   "metadata": {},
   "source": [
    "### Common errors\n",
    "<p>Common errors with these data types are Syntax errors and Type errors. </p>\n",
    "<p>When considering strings, the wrong use of quotation marks causes a *Syntax Error*. </p>\n",
    "<ul>\n",
    "    <li>Example: \"This is a 'valid' string\" \n",
    "    <p>out[ ]: \"This is a 'valid' string\"</p>\n",
    "    <li>Example: \"this is \"not a valid\" string\"\n",
    "    <p>out[ ]: <font color='red'>SyntaxError: invalid syntax </font></p>\n",
    "</ul>\n",
    "\n",
    "<p>Using the wrong data type for builed in functions will cause *Type Errors* </p>\n",
    "<ul>\n",
    "    <li>Example: len(\"Python\") \n",
    "    <p>out[ ]: 6 </p>\n",
    "    <li>Example: len(5)\n",
    "    <p>out[ ]: <font color='red'>TypeError: object of type 'int' has no len()</font> </p>\n",
    "</ul>        \n",
    "\n"
   ]
  },
  {
   "cell_type": "markdown",
   "id": "a4ea3f3b",
   "metadata": {},
   "source": [
    "## Data structures\n",
    "<p>A way of organizing and storing grouped pieces of data in python. Usually these pieces of data have a relationship with each other. This is also the way to store data in a certain order (e.g. time series data). Here lists, dictionaries, numpy arrays and panda dataframes are shown, as these are most used in data science and movement analysis. Lists and dictionaries are part of the standard python library, Numpy arrays and Panda DataFrames are accessible through external libraries and thus, should be installed in the environment, and imported in the script.  </p>\n",
    "<p>Indexing in the datastructures start from 0. This can be visualised as an offset from the start. Meaning, the first item has an offset of zero, whereas the second item has an ofset of 1 and so forth. </p>\n",
    "<ol>\n",
    "    <li> Lists\n",
    "        <ul>\n",
    "            <li> list = [item1, item2, ...]\n",
    "            <li> Can store any data type you'd want and can even combine them in a list\n",
    "            <li> List output looks like an array [1, \"hello\", 2.2]    \n",
    "            <li> They can be modified and added onto when needed. \n",
    "            <li> Indexing into a list is done with integers, first item in list = 0 and last item in list = -1\n",
    "        </ul>\n",
    "    <li> Dictionaries\n",
    "        <ul>\n",
    "            <li> dict = {\"key1\": item1, \n",
    "                         \"key2\": item2,\n",
    "                         ... }\n",
    "            <li> A dictionary contains a key, which is a string, with an associated item. This item can be whatever, a scalar, a list or other dictionary.                 \n",
    "        </ul>\n",
    "    <li> Numpy's Array\n",
    "        <ul>\n",
    "            <li> The Numpy library is  \n",
    "        </ul>\n",
    "    <li> Panda's DataFrame\n",
    "    "
   ]
  },
  {
   "cell_type": "code",
   "execution_count": 5,
   "id": "e5f15df1",
   "metadata": {},
   "outputs": [
    {
     "data": {
      "text/plain": [
       "6"
      ]
     },
     "execution_count": 5,
     "metadata": {},
     "output_type": "execute_result"
    }
   ],
   "source": [
    "#Lists\n",
    "my_list_of_numbers = [4, 3, 2, 1, 0]\n",
    "my_list_of_strings = [\"apple\", \"banana\", \"orange\"]\n",
    "\n",
    "#Indexing in list\n",
    "my_list_of_strings[1] \n",
    "my_list_of_strings[-1]\n",
    "\n",
    "#Change existing item in list \n",
    "my_list_of_numbers[2] = 5\n",
    "\n",
    "#Add item to list \n",
    "my_list_of_strings.append(\"peach\")\n",
    "\n",
    "#Remove item from list\n",
    "my_list_of_strings.remove(\"banana\")\n",
    "\n",
    "#Dictionaries\n",
    "my_dict = {\"ppID\": 1, \n",
    "                \"sensor\": \"Sensor\",\n",
    "                \"data\": [14, 47, 41, 6, 35, 12, 27, 48, 0, 25, 11, 36, 26, 28, 32]}\n",
    "\n",
    "#Indexing in dictionary\n",
    "my_dict.keys() # get the keys\n",
    "my_dict[\"data\"] # get the data values \n",
    "my_dict[\"data\"][3] # get the fourth item of the data"
   ]
  },
  {
   "cell_type": "markdown",
   "id": "4ac61938",
   "metadata": {},
   "source": [
    "## Loops and conditional statements \n",
    "<p>There are a few things that are important when consideing loops, statement (and also functions, but more on that later). </p>\n",
    "<ol>    \n",
    "    <li> The first line always end with a colon (:). If the colon is missing you get a <font color=\"red\">SyntaxError:</font> expected ':' \n",
    "    <li> Indentation of the following lines are important. Either a tab of 4 spaces. Otherwise you get an  \n",
    "    <font color=\"red\">IndentationError:</font> expected an indented block after 'for' statement on line 1\n",
    "    <li> If the colon is placed correctly, indentation should be automatic.\n",
    " </ol>"
   ]
  },
  {
   "cell_type": "markdown",
   "id": "fd09c257",
   "metadata": {},
   "source": [
    "#### For loops\n"
   ]
  },
  {
   "cell_type": "code",
   "execution_count": 6,
   "id": "67053823",
   "metadata": {
    "scrolled": true
   },
   "outputs": [
    {
     "name": "stdout",
     "output_type": "stream",
     "text": [
      "4\n",
      "3\n",
      "5\n",
      "1\n",
      "0\n",
      "\n",
      "\n",
      "0 apple\n",
      "1 orange\n",
      "2 peach\n"
     ]
    }
   ],
   "source": [
    "#Just print item in list\n",
    "for number in my_list_of_numbers:\n",
    "    print(number)\n",
    "    \n",
    "print('\\n')\n",
    "#Print item in list and extract the index of that item with the enumerate function\n",
    "for index, string in enumerate(my_list_of_strings):\n",
    "    print(index, string)"
   ]
  },
  {
   "cell_type": "markdown",
   "id": "eceb7da0",
   "metadata": {},
   "source": [
    "#### Conditional statements"
   ]
  },
  {
   "cell_type": "code",
   "execution_count": 7,
   "id": "4cd6e45f",
   "metadata": {},
   "outputs": [
    {
     "name": "stdout",
     "output_type": "stream",
     "text": [
      "x equals 2\n"
     ]
    }
   ],
   "source": [
    "x=2\n",
    "\n",
    "if x==3:\n",
    "    print(\"x equals 3\")\n",
    "elif x==2:\n",
    "    print(\"x equals 2\")\n",
    "else:\n",
    "    print(\"x equals something else\")    "
   ]
  },
  {
   "cell_type": "markdown",
   "id": "6ade9d49",
   "metadata": {},
   "source": [
    "#### While loop"
   ]
  },
  {
   "cell_type": "code",
   "execution_count": null,
   "id": "c7104680",
   "metadata": {},
   "outputs": [],
   "source": [
    "still_on = True\n",
    "x = 0\n",
    "\n",
    "while still_on:\n",
    "    print(\"I'm still confused about while statements... \")\n",
    "    x += 1\n",
    "    \n",
    "    if x > 5:\n",
    "        still_on = False\n",
    "        print(\"Wait, I think I got it ;)\")"
   ]
  },
  {
   "cell_type": "markdown",
   "id": "8aea19b4",
   "metadata": {},
   "source": [
    "## Functions\n",
    "<p>Functions in Python are usually written when a certain block of code should be repeatable or repeated many times. They can be enbedded in the document itself (like at the top of this jupyter notebook). Or they can be in a seperate document. </p>\n",
    "<p> If the function is in a seperate document, you'd need to import it in your script. <font color=\"green\">from</font> my_function_file <font color=\"green\">import</font> my_function</p>\n"
   ]
  },
  {
   "cell_type": "code",
   "execution_count": null,
   "id": "9d544cdb",
   "metadata": {},
   "outputs": [],
   "source": []
  }
 ],
 "metadata": {
  "kernelspec": {
   "display_name": "Python 3 (ipykernel)",
   "language": "python",
   "name": "python3"
  },
  "language_info": {
   "codemirror_mode": {
    "name": "ipython",
    "version": 3
   },
   "file_extension": ".py",
   "mimetype": "text/x-python",
   "name": "python",
   "nbconvert_exporter": "python",
   "pygments_lexer": "ipython3",
   "version": "3.10.9"
  }
 },
 "nbformat": 4,
 "nbformat_minor": 5
}
